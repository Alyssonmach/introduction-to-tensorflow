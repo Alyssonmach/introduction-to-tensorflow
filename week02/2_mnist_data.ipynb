{
 "cells": [
  {
   "cell_type": "markdown",
   "metadata": {
    "id": "Be00wGrKdYv8"
   },
   "source": [
    "# Coding a Computer Vision Neural Network"
   ]
  },
  {
   "cell_type": "markdown",
   "metadata": {
    "id": "qD1YKEIPdaa4"
   },
   "source": [
    "## Model Handwriting Recognition"
   ]
  },
  {
   "cell_type": "code",
   "execution_count": 1,
   "metadata": {
    "id": "DkN4900ydRoZ"
   },
   "outputs": [],
   "source": [
    "# importando o framework tensorflow no python\n",
    "import tensorflow as tf"
   ]
  },
  {
   "cell_type": "code",
   "execution_count": 2,
   "metadata": {
    "id": "8yrFBGZ1dvRY"
   },
   "outputs": [],
   "source": [
    "# baixando os dados de dígitos escritos a mão\n",
    "mnist = tf.keras.datasets.mnist"
   ]
  },
  {
   "cell_type": "code",
   "execution_count": 3,
   "metadata": {
    "colab": {
     "base_uri": "https://localhost:8080/"
    },
    "id": "iYxVr0EhdzrY",
    "outputId": "7d7af5c2-967e-40f6-c3e1-6cf283ffc6b8"
   },
   "outputs": [],
   "source": [
    "# separando os dados de treinamento e dados de teste\n",
    "(training_images, training_labels), (test_images, test_labels) = mnist.load_data()"
   ]
  },
  {
   "cell_type": "code",
   "execution_count": 4,
   "metadata": {
    "colab": {
     "base_uri": "https://localhost:8080/"
    },
    "id": "Lxs78UdueMEx",
    "outputId": "ab9ab8be-f0c7-4e0b-cf8c-7daf7e93bac2"
   },
   "outputs": [
    {
     "name": "stdout",
     "output_type": "stream",
     "text": [
      "training image shape: (60000, 28, 28)\n",
      "training label shape: (60000,)\n",
      "test image shape: (10000, 28, 28)\n",
      "training label shape: (10000,)\n"
     ]
    }
   ],
   "source": [
    "# visualizando as dimensões dos dados\n",
    "print('training image shape:', training_images.shape)\n",
    "print('training label shape:', training_labels.shape)\n",
    "print('test image shape:', test_images.shape)\n",
    "print('training label shape:', test_labels.shape)"
   ]
  },
  {
   "cell_type": "code",
   "execution_count": 5,
   "metadata": {
    "colab": {
     "base_uri": "https://localhost:8080/",
     "height": 282
    },
    "id": "AZJytYyvf-MR",
    "outputId": "a76af371-438c-41fe-c429-7233f9f1957e"
   },
   "outputs": [
    {
     "name": "stdout",
     "output_type": "stream",
     "text": [
      "training label: 5\n"
     ]
    },
    {
     "data": {
      "image/png": "[encoded data removed]",
      "text/plain": [
       "<Figure size 432x288 with 1 Axes>"
      ]
     },
     "metadata": {
      "needs_background": "light"
     },
     "output_type": "display_data"
    }
   ],
   "source": [
    "# visualizando um exemplo de formato da imagem\n",
    "from matplotlib.pyplot import imshow\n",
    "\n",
    "imshow(training_images[0], cmap = 'gray')\n",
    "print('training label:', training_labels[0])"
   ]
  },
  {
   "cell_type": "code",
   "execution_count": 6,
   "metadata": {
    "id": "zdlhGt6vejfS"
   },
   "outputs": [],
   "source": [
    "# definindo um limite de acurácia para a etapa de treinamento (callback)\n",
    "class myCallback(tf.keras.callbacks.Callback):\n",
    "  def on_epoch_end(self, epoch, logs = {}):\n",
    "    if (logs.get('accuracy') > 0.99):\n",
    "      print(\"\\nReached 99% accuracy so cancelling training!\")\n",
    "      self.model.stop_training = True"
   ]
  },
  {
   "cell_type": "code",
   "execution_count": 7,
   "metadata": {
    "id": "USx9ODz-g18L"
   },
   "outputs": [],
   "source": [
    "# criando um objeto da classe myCallback\n",
    "callbacks = myCallback()"
   ]
  },
  {
   "cell_type": "code",
   "execution_count": 8,
   "metadata": {
    "id": "YMq-1T5-eDm4"
   },
   "outputs": [],
   "source": [
    "# normalizando os dados de treinamento e dados de teste\n",
    "training_images = training_images / 255\n",
    "test_images = test_images / 255"
   ]
  },
  {
   "cell_type": "code",
   "execution_count": 9,
   "metadata": {
    "id": "Xk498nLffYUZ"
   },
   "outputs": [],
   "source": [
    "# definindo as camadas da rede neural profunda\n",
    "model = tf.keras.models.Sequential([tf.keras.layers.Flatten(input_shape = (28, 28)),\n",
    "                                    tf.keras.layers.Dense(512, activation = tf.nn.relu),\n",
    "                                    tf.keras.layers.Dense(10, activation = tf.nn.softmax)])"
   ]
  },
  {
   "cell_type": "code",
   "execution_count": 10,
   "metadata": {
    "id": "dcMCDZmAf5iQ"
   },
   "outputs": [],
   "source": [
    "# configurando os detalhes de compilação do modelo\n",
    "model.compile(optimizer = 'adam', \n",
    "              loss = 'sparse_categorical_crossentropy',\n",
    "              metrics = 'accuracy')"
   ]
  },
  {
   "cell_type": "code",
   "execution_count": 13,
   "metadata": {
    "colab": {
     "base_uri": "https://localhost:8080/"
    },
    "id": "Cn9uCsgYgoco",
    "outputId": "5d3b7bd9-4ee2-46d8-f6d9-4866a3315f82"
   },
   "outputs": [
    {
     "name": "stdout",
     "output_type": "stream",
     "text": [
      "Epoch 1/5\n",
      "1875/1875 [==============================] - 8s 4ms/step - loss: 0.0215 - accuracy: 0.9929\n",
      "\n",
      "Reached 99% accuracy so cancelling training!\n"
     ]
    },
    {
     "data": {
      "text/plain": [
       "<tensorflow.python.keras.callbacks.History at 0x184f4c7a340>"
      ]
     },
     "execution_count": 13,
     "metadata": {},
     "output_type": "execute_result"
    }
   ],
   "source": [
    "# realizando o treinamento do modelo com os dados de treinamento\n",
    "model.fit(training_images, training_labels, epochs = 5, callbacks = [callbacks])"
   ]
  },
  {
   "cell_type": "code",
   "execution_count": 12,
   "metadata": {
    "colab": {
     "base_uri": "https://localhost:8080/"
    },
    "id": "5a8pXBSLhUI4",
    "outputId": "cae2d280-6c05-48ab-96d5-9da2ca2f2e62"
   },
   "outputs": [
    {
     "name": "stdout",
     "output_type": "stream",
     "text": [
      "313/313 [==============================] - 1s 3ms/step - loss: 0.0958 - accuracy: 0.9736\n"
     ]
    },
    {
     "data": {
      "text/plain": [
       "[0.09575898200273514, 0.9735999703407288]"
      ]
     },
     "execution_count": 12,
     "metadata": {},
     "output_type": "execute_result"
    }
   ],
   "source": [
    "# testando a acurácia de generalização do modelo como os dados de teste\n",
    "model.evaluate(test_images, test_labels)"
   ]
  }
 ],
 "metadata": {
  "colab": {
   "name": "mnist data.ipynb",
   "provenance": []
  },
  "kernelspec": {
   "display_name": "Python 3",
   "language": "python",
   "name": "python3"
  },
  "language_info": {
   "codemirror_mode": {
    "name": "ipython",
    "version": 3
   },
   "file_extension": ".py",
   "mimetype": "text/x-python",
   "name": "python",
   "nbconvert_exporter": "python",
   "pygments_lexer": "ipython3",
   "version": "3.8.7"
  }
 },
 "nbformat": 4,
 "nbformat_minor": 4
}
